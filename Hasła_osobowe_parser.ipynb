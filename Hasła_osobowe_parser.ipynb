{
  "nbformat": 4,
  "nbformat_minor": 0,
  "metadata": {
    "colab": {
      "name": "Hasła osobowe - parser",
      "provenance": [],
      "collapsed_sections": [],
      "include_colab_link": true
    },
    "kernelspec": {
      "name": "python3",
      "display_name": "Python 3"
    }
  },
  "cells": [
    {
      "cell_type": "markdown",
      "metadata": {
        "id": "view-in-github",
        "colab_type": "text"
      },
      "source": [
        "<a href=\"https://colab.research.google.com/github/patthub/Institute-of-Literary-Research/blob/master/Has%C5%82a_osobowe_parser.ipynb\" target=\"_parent\"><img src=\"https://colab.research.google.com/assets/colab-badge.svg\" alt=\"Open In Colab\"/></a>"
      ]
    },
    {
      "cell_type": "code",
      "metadata": {
        "id": "EuniQ8RJY65c",
        "colab_type": "code",
        "colab": {
          "base_uri": "https://localhost:8080/",
          "height": 34
        },
        "outputId": "5a832c56-393d-4cfc-ca75-5edfb01e500e"
      },
      "source": [
        "import pandas as pd\n",
        "import _sqlite3\n",
        "import pdb\n",
        "import re as re\n",
        "import PH_functions as PH\n",
        "import numpy as np\n",
        "import pprint\n",
        "import xml.etree.ElementTree as ET\n",
        "import json \n",
        "import urllib\n",
        "print(\"done\")\n",
        "\n"
      ],
      "execution_count": null,
      "outputs": [
        {
          "output_type": "stream",
          "text": [
            "done\n"
          ],
          "name": "stdout"
        }
      ]
    },
    {
      "cell_type": "code",
      "metadata": {
        "id": "IwghOz8FDPzv",
        "colab_type": "code",
        "colab": {
          "base_uri": "https://localhost:8080/",
          "height": 86
        },
        "outputId": "8fcef32a-0a26-4010-a268-f70c6175293f"
      },
      "source": [
        "pd.set_option('display.max_rows', None)\n",
        "%load_ext google.colab.data_table\n",
        "%load_ext rpy2.ipython\n"
      ],
      "execution_count": null,
      "outputs": [
        {
          "output_type": "stream",
          "text": [
            "The google.colab.data_table extension is already loaded. To reload it, use:\n",
            "  %reload_ext google.colab.data_table\n",
            "The rpy2.ipython extension is already loaded. To reload it, use:\n",
            "  %reload_ext rpy2.ipython\n"
          ],
          "name": "stdout"
        }
      ]
    },
    {
      "cell_type": "code",
      "metadata": {
        "id": "jDBCxnkiOVvp",
        "colab_type": "code",
        "colab": {}
      },
      "source": [
        "def explode(df, lst_cols, fill_value='', preserve_index=False):\n",
        "    # make sure `lst_cols` is list-alike\n",
        "    if (lst_cols is not None\n",
        "        and len(lst_cols) > 0\n",
        "        and not isinstance(lst_cols, (list, tuple, np.ndarray, pd.Series))):\n",
        "        lst_cols = [lst_cols]\n",
        "    # all columns except `lst_cols`\n",
        "    idx_cols = df.columns.difference(lst_cols)\n",
        "    # calculate lengths of lists\n",
        "    lens = df[lst_cols[0]].str.len()\n",
        "    # preserve original index values    \n",
        "    idx = np.repeat(df.index.values, lens)\n",
        "    # create \"exploded\" DF\n",
        "    res = (pd.DataFrame({\n",
        "                col:np.repeat(df[col].values, lens)\n",
        "                for col in idx_cols},\n",
        "                index=idx)\n",
        "             .assign(**{col:np.concatenate(df.loc[lens>0, col].values)\n",
        "                            for col in lst_cols}))\n",
        "    # append those rows that have empty lists\n",
        "    if (lens == 0).any():\n",
        "        # at least one list in cells is empty\n",
        "        res = (res.append(df.loc[lens==0, idx_cols], sort=False)\n",
        "                  .fillna(fill_value))\n",
        "    # revert the original index order\n",
        "    res = res.sort_index()\n",
        "    # reset index if requested\n",
        "    if not preserve_index:        \n",
        "        res = res.reset_index(drop=True)\n",
        "    return res"
      ],
      "execution_count": null,
      "outputs": []
    },
    {
      "cell_type": "code",
      "metadata": {
        "id": "KOSK3qBYst5w",
        "colab_type": "code",
        "colab": {}
      },
      "source": [
        "%%R\n",
        "install.packages(\"plyr\")\n",
        "install.packages(\"stringr\")\n",
        "install.packages(\"tidyverse\")\n",
        "install.packages(\"reshape2\")\n",
        "install.packages(\"zoo\")\n",
        "install.packages(\"splitstackshape\")\n",
        "install.packages(\"dplyr\")\n",
        "install.packages(\"svMisc\")\n",
        "install.packages(\"viafr\")\n"
      ],
      "execution_count": null,
      "outputs": []
    },
    {
      "cell_type": "code",
      "metadata": {
        "id": "Z9m87iukv6WJ",
        "colab_type": "code",
        "colab": {}
      },
      "source": [
        "%%R\n",
        "library(plyr)\n",
        "library(stringr)\n",
        "library(tidyverse)\n",
        "library(reshape2)\n",
        "library(zoo)\n",
        "library(splitstackshape)\n",
        "library(dplyr)\n",
        "library(svMisc)\n",
        "library(viafr)"
      ],
      "execution_count": null,
      "outputs": []
    },
    {
      "cell_type": "code",
      "metadata": {
        "id": "yx_i4n5eFOsp",
        "colab_type": "code",
        "colab": {}
      },
      "source": [
        "%%R\n",
        "Mickiewicz_korpus_raw <- readLines(\"Mickiewicz_korpus_full.txt\")\n",
        "write.csv(Mickiewicz_korpus_raw, \"Mickiewicz_korpus_raw.csv\")\n"
      ],
      "execution_count": null,
      "outputs": []
    },
    {
      "cell_type": "code",
      "metadata": {
        "id": "8A573sqGpGTw",
        "colab_type": "code",
        "colab": {}
      },
      "source": [
        "\n",
        "#df = pd.read_csv(\"HO50-51.csv\")\n",
        "df = pd.read_csv(\"Mickiewicz_korpus_raw.csv\")"
      ],
      "execution_count": null,
      "outputs": []
    },
    {
      "cell_type": "code",
      "metadata": {
        "id": "ec856v6WBh30",
        "colab_type": "code",
        "colab": {}
      },
      "source": [
        "df[\"x\"].replace('', np.nan, inplace=True)\n",
        "df.dropna(subset=[\"x\"], inplace=True)\n",
        "df['digit'] = df[\"x\"].str.contains(\"^\\\\d{1,4}\\\\.\", regex=True)\n",
        "df['row_id'] = np.arange(len(df))\n",
        "df\n",
        "def f(row):\n",
        "    if row['digit'] == True:\n",
        "        val = row['row_id']\n",
        "        return val\n",
        "df['id'] = df.apply(lambda x: f(x), axis = 1)\n",
        "df\n",
        "df['id'].ffill(axis=0, inplace=True)\n",
        "df = df.groupby('id')['x'].apply(' '.join).reset_index()\n",
        "df['x']\n",
        "df.rename(columns={\"x\" : \"Nazwa\"}, inplace=True)\n"
      ],
      "execution_count": null,
      "outputs": []
    },
    {
      "cell_type": "code",
      "metadata": {
        "id": "SSE7n9xnZE5P",
        "colab_type": "code",
        "colab": {}
      },
      "source": [
        "df[\"numerCalostki\"] = df[\"Nazwa\"].str.extract('(^\\d{1,4}\\.)', expand=True)\n",
        "df.loc[:, 'numerCalostki'] = df.loc[:, 'numerCalostki'].ffill()"
      ],
      "execution_count": null,
      "outputs": []
    },
    {
      "cell_type": "code",
      "metadata": {
        "id": "CSpGqXQqEsDb",
        "colab_type": "code",
        "colab": {}
      },
      "source": [
        "df[\"nawiasKw\"] = df[\"Nazwa\"].str.extract(\"(\\\\[[^\\\\]]*;.*\\\\])\", expand=True)"
      ],
      "execution_count": null,
      "outputs": []
    },
    {
      "cell_type": "code",
      "metadata": {
        "id": "Ng319YSGE6Zi",
        "colab_type": "code",
        "colab": {}
      },
      "source": [
        "df[\"nawiasKw1\"] = df[\"nawiasKw\"].str.replace(\";\", \"~\")"
      ],
      "execution_count": null,
      "outputs": []
    },
    {
      "cell_type": "code",
      "metadata": {
        "id": "MeRDWMm7FWHG",
        "colab_type": "code",
        "colab": {
          "base_uri": "https://localhost:8080/",
          "height": 124
        },
        "outputId": "06a5b28b-b3d1-4fbb-9369-7eb17218037c"
      },
      "source": [
        "for i in df.index:\n",
        "  df['Nazwa'][i] = df['Nazwa'][i].replace(str(df['nawiasKw'][i]), str(df['nawiasKw1'][i]))"
      ],
      "execution_count": null,
      "outputs": [
        {
          "output_type": "stream",
          "text": [
            "/usr/local/lib/python3.6/dist-packages/ipykernel_launcher.py:2: SettingWithCopyWarning: \n",
            "A value is trying to be set on a copy of a slice from a DataFrame\n",
            "\n",
            "See the caveats in the documentation: https://pandas.pydata.org/pandas-docs/stable/user_guide/indexing.html#returning-a-view-versus-a-copy\n",
            "  \n"
          ],
          "name": "stderr"
        }
      ]
    },
    {
      "cell_type": "code",
      "metadata": {
        "id": "qHDtEWXGpdkY",
        "colab_type": "code",
        "colab": {
          "base_uri": "https://localhost:8080/",
          "height": 124
        },
        "outputId": "c7edc7f7-7c43-404e-f137-45edff2f4584"
      },
      "source": [
        "for i in df.index:\n",
        "  df['Nazwa'][i] = df['Nazwa'][i].replace(\"W;\", \"W:\")\n"
      ],
      "execution_count": null,
      "outputs": [
        {
          "output_type": "stream",
          "text": [
            "/usr/local/lib/python3.6/dist-packages/ipykernel_launcher.py:2: SettingWithCopyWarning: \n",
            "A value is trying to be set on a copy of a slice from a DataFrame\n",
            "\n",
            "See the caveats in the documentation: https://pandas.pydata.org/pandas-docs/stable/user_guide/indexing.html#returning-a-view-versus-a-copy\n",
            "  \n"
          ],
          "name": "stderr"
        }
      ]
    },
    {
      "cell_type": "code",
      "metadata": {
        "id": "80nG8odLup-5",
        "colab_type": "code",
        "colab": {}
      },
      "source": [
        "df[\"przedDzieleniem\"] = df[\"Nazwa\"].copy()"
      ],
      "execution_count": null,
      "outputs": []
    },
    {
      "cell_type": "code",
      "metadata": {
        "id": "4Su3vGszuFG2",
        "colab_type": "code",
        "colab": {}
      },
      "source": [
        "df.to_csv(\"korpus_main.csv\")"
      ],
      "execution_count": null,
      "outputs": []
    },
    {
      "cell_type": "markdown",
      "metadata": {
        "id": "VER62i4Wsukc",
        "colab_type": "text"
      },
      "source": [
        "PARSER R SPLIT"
      ]
    },
    {
      "cell_type": "code",
      "metadata": {
        "id": "wGoppfk3st20",
        "colab_type": "code",
        "colab": {}
      },
      "source": [
        "%%R\n",
        "korpus_main <- read.csv(\"korpus_main.csv\")\n"
      ],
      "execution_count": null,
      "outputs": []
    },
    {
      "cell_type": "code",
      "metadata": {
        "id": "pXBhFUxcst0Q",
        "colab_type": "code",
        "colab": {}
      },
      "source": [
        "%%R\n",
        "###split by single work###\n",
        "\n",
        "korpus_main <- as.data.frame(unlist(str_split(korpus_main$Nazwa, \"\\\\.\\\\s{0,1}[—-]\" )))\n",
        "names(korpus_main)[1] <-\"Nazwa\"\n",
        "\n",
        "###split by ;###\n",
        "\n",
        "korpus_main <- as.data.frame(unlist(str_split(korpus_main$Nazwa, \"(?=;)\" )))\n",
        "names(korpus_main)[1] <- \"Nazwa\"\n",
        "###split by /odp###\n",
        "\n",
        "korpus_main <- as.data.frame(unlist(str_split(korpus_main$Nazwa, \"(?<=\\\\[?\\\\/odp\\\\.\\\\]?)\" )))\n",
        "names(korpus_main)[1] <-\"Nazwa\"\n",
        "\n",
        "###split by /polem.###\n",
        "\n",
        "korpus_main <- as.data.frame(unlist(str_split(korpus_main$Nazwa, \"(?<=\\\\[?\\\\/polem\\\\.\\\\]?)\" )))\n",
        "names(korpus_main)[1] <-\"Nazwa\"\n",
        "\n",
        "###split by /nawiąz.###\n",
        "\n",
        "korpus_main <- as.data.frame(unlist(str_split(korpus_main$Nazwa, \"(?<=\\\\[?nawiąz\\\\.\\\\]?)\" )))\n",
        "names(korpus_main)[1] <- \"Nazwa\"\n",
        "\n",
        "###split by Rec.###\n",
        "\n",
        "korpus_main <- as.data.frame(unlist(str_split(korpus_main$Nazwa, \"(?<=Rec\\\\.\\\\:)\" )))\n",
        "names(korpus_main)[1] <- \"Nazwa\"\n"
      ],
      "execution_count": null,
      "outputs": []
    },
    {
      "cell_type": "code",
      "metadata": {
        "id": "BxZJlQn_stx5",
        "colab_type": "code",
        "colab": {}
      },
      "source": [
        "%%R\n",
        "write_csv(korpus_main, \"data.csv\")\n"
      ],
      "execution_count": null,
      "outputs": []
    },
    {
      "cell_type": "code",
      "metadata": {
        "id": "t9HPdCBfstvf",
        "colab_type": "code",
        "colab": {}
      },
      "source": [
        "df = pd.read_csv(\"data.csv\")"
      ],
      "execution_count": null,
      "outputs": []
    },
    {
      "cell_type": "code",
      "metadata": {
        "id": "R7xnmUiqlomL",
        "colab_type": "code",
        "colab": {}
      },
      "source": [
        "for i in df.index:\n",
        "  df['Nazwa'][i] = df['Nazwa'][i].replace(\"~\", \";\")"
      ],
      "execution_count": null,
      "outputs": []
    },
    {
      "cell_type": "code",
      "metadata": {
        "id": "23831NV2stne",
        "colab_type": "code",
        "colab": {}
      },
      "source": [
        "df['tworca'] = df[\"Nazwa\"].str.extract(\"([A-ZŚŁŻŹĆŃĘÓĄ1ÉŁ -]{3,100} [A-ZŚŁŻŹĆŃĘÓĄÉŁ ]{3,100})\", expand=True)\n"
      ],
      "execution_count": null,
      "outputs": []
    },
    {
      "cell_type": "code",
      "metadata": {
        "id": "DveEHMbhstiB",
        "colab_type": "code",
        "colab": {}
      },
      "source": [
        "for i in df.index:\n",
        "  df['Nazwa'][i] = df['Nazwa'][i].replace(str(df['tworca'][i]), \"\")\n"
      ],
      "execution_count": null,
      "outputs": []
    },
    {
      "cell_type": "code",
      "metadata": {
        "id": "Hc-LFuZeste2",
        "colab_type": "code",
        "colab": {}
      },
      "source": [
        "df.loc[:, 'tworca'] = df.loc[:, 'tworca'].ffill()"
      ],
      "execution_count": null,
      "outputs": []
    },
    {
      "cell_type": "markdown",
      "metadata": {
        "id": "GqDSz_nXpbV0",
        "colab_type": "text"
      },
      "source": [
        "SPLIT ;"
      ]
    },
    {
      "cell_type": "code",
      "metadata": {
        "id": "hmhVchagu-Jx",
        "colab_type": "code",
        "colab": {}
      },
      "source": [
        "df[\"Pełen rekord\"] = df[\"Nazwa\"].copy()"
      ],
      "execution_count": null,
      "outputs": []
    },
    {
      "cell_type": "code",
      "metadata": {
        "id": "GS7gYmmGuKHi",
        "colab_type": "code",
        "colab": {}
      },
      "source": [
        "skroty = pd.read_csv(\"skroty.csv\")\n",
        "#skroty_test = pd.read_csv(\"skroty1.csv\")\n",
        "skroty_test = pd.read_csv(\"skroty1 - skroty1-kopia.csv\")\n"
      ],
      "execution_count": null,
      "outputs": []
    },
    {
      "cell_type": "code",
      "metadata": {
        "id": "YZcUSNDwuM8H",
        "colab_type": "code",
        "colab": {}
      },
      "source": [
        "skroty_list = skroty['nazwa'].values.tolist()\n",
        "\n",
        "skroty_list_test = skroty_test['pbl'].values.tolist()\n",
        "skroty_list_test1 = str(skroty_list_test)\n",
        "\n",
        "#skróty do pattern\n",
        "\n",
        "pattern = ' | '.join(skroty_list)\n",
        "#pattern_test =  (' | '.join((skroty_list_test)))\n",
        "pattern_test =  (' | '.join((skroty_list_test)))\n",
        "\n",
        "pattern_test1 = re.escape(pattern_test)\n",
        "skroty_grupa = '(' + pattern_test + ')'\n"
      ],
      "execution_count": null,
      "outputs": []
    },
    {
      "cell_type": "code",
      "metadata": {
        "id": "_qwOIsv0ugOG",
        "colab_type": "code",
        "colab": {}
      },
      "source": [
        "tmp_df = df['Nazwa'].str.extract(skroty_grupa)\n",
        "\n",
        "tmp_df = pd.DataFrame(tmp_df[0])\n",
        "df['skroty'] = tmp_df\n",
        "df['skroty'] = df['skroty'].str[1:]"
      ],
      "execution_count": null,
      "outputs": []
    },
    {
      "cell_type": "code",
      "metadata": {
        "id": "pxzzeBP3qVl6",
        "colab_type": "code",
        "colab": {}
      },
      "source": [
        "for i in df.index:\n",
        "  df['Nazwa'][i] = df['Nazwa'][i].replace(str(df['skroty'][i]), \"\")"
      ],
      "execution_count": null,
      "outputs": []
    },
    {
      "cell_type": "code",
      "metadata": {
        "id": "5k0Rby85ypG4",
        "colab_type": "code",
        "colab": {}
      },
      "source": [
        "df[\"numer\"] = df[\"Nazwa\"].str.extract('(nr\\s.+)', expand=True)\n",
        "#df[\"numer_czasopisma\"] = df[\"Nazwa\"].str.findall('(\\d+\\:\\d+(\\-\\d+)?)|(\\d*$)')\n",
        "df[\"numer_czasopisma\"] = df[\"Nazwa\"].str.findall('(\\d*[-—:]?\\d*?[-—:]?\\d*?\\.?$)')\n",
        "#df[\"strony_seria\"] = df[\"Nazwa\"].str.findall(\"(ss\\s?\\.?\\s?[\\d+\\s,nlb tabl\\. ilustr\\. portr\\. plany\\. mapa\\. mapy\\.]*)\")\n",
        "\n",
        "#df[\"strony_seria\"] = df[\"Nazwa\"].str.findall(\"ss\\..+\")\n",
        "df[\"strony\"] = df[\"Nazwa\"].str.findall(\"s\\.\\s?\\d+\\s?[-—]?\\s?\\d+\")\n"
      ],
      "execution_count": null,
      "outputs": []
    },
    {
      "cell_type": "markdown",
      "metadata": {
        "id": "EJr2zTuTjf2c",
        "colab_type": "text"
      },
      "source": [
        ""
      ]
    },
    {
      "cell_type": "code",
      "metadata": {
        "id": "RhxfQddNJ3K_",
        "colab_type": "code",
        "colab": {}
      },
      "source": [
        "df[\"adnotacja\"] = df[\"Nazwa\"].str.extract('(\\[[A-ZĄĆĘŁÓŚŻŹŃa-zzćęłóśżźąń\\.\\s\\d;,]+\\][\\.,]?$)', expand=True)\n"
      ],
      "execution_count": null,
      "outputs": []
    },
    {
      "cell_type": "code",
      "metadata": {
        "id": "SEOFSSDekK9A",
        "colab_type": "code",
        "colab": {}
      },
      "source": [
        "df.to_csv(\"df.csv\")"
      ],
      "execution_count": null,
      "outputs": []
    },
    {
      "cell_type": "code",
      "metadata": {
        "id": "xYosNmxQJbuz",
        "colab_type": "code",
        "colab": {}
      },
      "source": [
        "%%R\n",
        "df <- read.csv(\"df.csv\")\n",
        "tmp_df1 <- str_split(df$Nazwa, \"(?=Oprac)|(?=Ilustr)|(?=W opracowaniu)|(?=Wstęp:)|(?=Tłum)|(?=Z objaśnieniami)|(?=Przedm\\\\.)|(?=Przedm )|(?=Przedmowa)|(?=Wybór)|(?=Red\\\\.?)|(?=Przeł\\\\.)|(?=Przeł )|(?=Przełożył)|(?=Adapt\\\\.?)|(?=Aut\\\\.?)|(?=Fot\\\\.?)|(?=Oprac\\\\.graf\\\\.)\", 2)\n",
        "tmp_df1 <- as.data.frame(tmp_df1)\n",
        "tmp_df1 <- t(tmp_df1)\n",
        "tmp_df1<- as.data.frame(tmp_df1)\n",
        "write.csv(tmp_df1, \"tmp_df1.csv\")"
      ],
      "execution_count": null,
      "outputs": []
    },
    {
      "cell_type": "code",
      "metadata": {
        "id": "0oRY6ofJwa7f",
        "colab_type": "code",
        "colab": {}
      },
      "source": [
        "tmp_df1 = pd.read_csv(\"tmp_df1.csv\")\n",
        "df[\"Autor\"] = tmp_df1[\"V2\"]"
      ],
      "execution_count": null,
      "outputs": []
    },
    {
      "cell_type": "code",
      "metadata": {
        "id": "Y3dKoHp1x7GZ",
        "colab_type": "code",
        "colab": {}
      },
      "source": [
        "%%R\n",
        "df <- read.csv(\"df.csv\")\n",
        "tmp_df1 <- str_split(df$Nazwa, \"(?=Wyd\\\\.\\\\s?\\\\d)|(?=Wydanie\\\\s?\\\\d)|(?=wyd\\\\.\\\\s?\\\\d)\", 2)\n",
        "tmp_df1 <- as.data.frame(tmp_df1)\n",
        "tmp_df1 <- t(tmp_df1)\n",
        "tmp_df1<- as.data.frame(tmp_df1)\n",
        "write.csv(tmp_df1, \"tmp_df1.csv\")\n"
      ],
      "execution_count": null,
      "outputs": []
    },
    {
      "cell_type": "code",
      "metadata": {
        "id": "1chX6rrRk4iX",
        "colab_type": "code",
        "colab": {}
      },
      "source": [
        "tmp_df1 = pd.read_csv(\"tmp_df1.csv\")\n",
        "df[\"Wydanie\"] = tmp_df1[\"V2\"]"
      ],
      "execution_count": null,
      "outputs": []
    },
    {
      "cell_type": "code",
      "metadata": {
        "id": "4AA8omQ_fvxG",
        "colab_type": "code",
        "colab": {}
      },
      "source": [
        "df.to_csv(\"df2.csv\")"
      ],
      "execution_count": null,
      "outputs": []
    },
    {
      "cell_type": "code",
      "metadata": {
        "id": "uzgcsMHTWj5_",
        "colab_type": "code",
        "colab": {}
      },
      "source": [
        "%%R\n",
        "df <- read.csv(\"df.csv\")\n",
        "tmp_df1 <- str_split(df$Nazwa, \"(zob.)\", 2)\n",
        "tmp_df1 <- as.data.frame(tmp_df1)\n",
        "tmp_df1 <- t(tmp_df1)\n",
        "tmp_df1<- as.data.frame(tmp_df1)\n",
        "write.csv(tmp_df1, \"tmp_df1.csv\")\n"
      ],
      "execution_count": null,
      "outputs": []
    },
    {
      "cell_type": "code",
      "metadata": {
        "id": "_io217DWfvtz",
        "colab_type": "code",
        "colab": {}
      },
      "source": [
        "tmp_df1 = pd.read_csv(\"tmp_df1.csv\")\n",
        "df[\"Zobacz\"] = tmp_df1[\"V2\"]"
      ],
      "execution_count": null,
      "outputs": []
    },
    {
      "cell_type": "code",
      "metadata": {
        "id": "oQCzgcrP0-9s",
        "colab_type": "code",
        "colab": {}
      },
      "source": [
        "%%R\n",
        "df <- read.csv(\"df.csv\")\n",
        "tmp_df1 <- str_split(df$Nazwa, \"(?=Kraków)|(?=Warszawa)|(?=Katowice)|(?=Białystok)|(?=Poznań )|(?=Bydgoszcz)|(?=Łódź)|(?=Toruń)|(?=Gdańsk)|(?=Wrocław)|(?=Wwa)|(?=W-wa)|(?=Gdynia)|(?=Kat\\\\., Śl\\\\.,)|(?=Pozn)|(?=Lubl)|(?=Wrocł)|(?=Kr\\\\.)\", 2)\n",
        "tmp_df1 <- as.data.frame(tmp_df1)\n",
        "tmp_df1 <- t(tmp_df1)\n",
        "tmp_df1<- as.data.frame(tmp_df1)\n",
        "write.csv(tmp_df1, \"tmp_df1.csv\")"
      ],
      "execution_count": null,
      "outputs": []
    },
    {
      "cell_type": "code",
      "metadata": {
        "id": "dyXWFaw20_-U",
        "colab_type": "code",
        "colab": {}
      },
      "source": [
        "tmp_df1 = pd.read_csv(\"tmp_df1.csv\")\n",
        "df[\"Miejsce wydania\"] = tmp_df1[\"V2\"]"
      ],
      "execution_count": null,
      "outputs": []
    },
    {
      "cell_type": "code",
      "metadata": {
        "id": "2rCYnRgDfvmX",
        "colab_type": "code",
        "colab": {}
      },
      "source": [
        "for i in df.index:\n",
        "  if df[\"Wydanie\"][i] == df[\"Nazwa\"][i]:\n",
        "    df[\"Wydanie\"][i] = \"\"\n",
        "for i in df.index:\n",
        "  if df[\"Autor\"][i] == df[\"Nazwa\"][i]:\n",
        "    df[\"Autor\"][i] = \"\"\n",
        "for i in df.index:\n",
        "  if df[\"Zobacz\"][i] == df[\"Nazwa\"][i]:\n",
        "    df[\"Zobacz\"][i] = \"\"\n",
        "for i in df.index:\n",
        "  if df[\"Miejsce wydania\"][i] == df[\"Nazwa\"][i]:\n",
        "    df[\"Miejsce wydania\"][i] = \"\"\n",
        "\n"
      ],
      "execution_count": null,
      "outputs": []
    },
    {
      "cell_type": "code",
      "metadata": {
        "id": "FoD0apavyCjV",
        "colab_type": "code",
        "colab": {}
      },
      "source": [
        "for i in df.index:\n",
        "  df['Autor'][i] = str(df['Autor'][i]).replace(str(df['Wydanie'][i]), \"\")"
      ],
      "execution_count": null,
      "outputs": []
    },
    {
      "cell_type": "code",
      "metadata": {
        "id": "C5xGVXSgNv_d",
        "colab_type": "code",
        "colab": {}
      },
      "source": [
        "type(df[\"Wydanie\"])"
      ],
      "execution_count": null,
      "outputs": []
    },
    {
      "cell_type": "code",
      "metadata": {
        "id": "Ztqf4XwY36jL",
        "colab_type": "code",
        "colab": {}
      },
      "source": [
        "df.loc[:, 'numer_czasopisma1'] = df.numer_czasopisma.map(lambda x: x[0])"
      ],
      "execution_count": null,
      "outputs": []
    },
    {
      "cell_type": "code",
      "metadata": {
        "id": "RfZVgBMF3MS2",
        "colab_type": "code",
        "colab": {}
      },
      "source": [
        "for i in df.index:\n",
        "  df['Nazwa'][i] = df['Nazwa'][i].replace(str(df['numer_czasopisma1'][i]), \"\")"
      ],
      "execution_count": null,
      "outputs": []
    },
    {
      "cell_type": "code",
      "metadata": {
        "id": "LTgirps6yZUM",
        "colab_type": "code",
        "colab": {}
      },
      "source": [
        "df[\"Strony_seria\"] = df[\"Wydanie\"].str.extract(\"(ss\\s?\\.?\\s?[\\d+\\s,nlb tabl\\. ilustr\\. portr\\. plany\\. mapa\\. mapy\\. nlb\\.]*)\")\n"
      ],
      "execution_count": null,
      "outputs": []
    },
    {
      "cell_type": "code",
      "metadata": {
        "id": "TFC9nZ4XzJq-",
        "colab_type": "code",
        "colab": {}
      },
      "source": [
        "for i in df.index:\n",
        "  df['Wydanie'][i] = str(df['Wydanie'][i]).replace(str(df['Strony_seria'][i]), \"\")"
      ],
      "execution_count": null,
      "outputs": []
    },
    {
      "cell_type": "code",
      "metadata": {
        "id": "YvF2JabNyktq",
        "colab_type": "code",
        "colab": {}
      },
      "source": [
        "df.head()"
      ],
      "execution_count": null,
      "outputs": []
    },
    {
      "cell_type": "code",
      "metadata": {
        "id": "hTruLVr23Txo",
        "colab_type": "code",
        "colab": {}
      },
      "source": [
        "df[\"numerCalostki\"] = df[\"Nazwa\"].str.extract('(^\\d{1,4}\\.?)', expand=True)\n",
        "df.loc[:, 'numerCalostki'] = df.loc[:, 'numerCalostki'].ffill()"
      ],
      "execution_count": null,
      "outputs": []
    },
    {
      "cell_type": "code",
      "metadata": {
        "id": "j-EPDyaS3hAO",
        "colab_type": "code",
        "colab": {}
      },
      "source": [
        "for i in df.index:\n",
        "  df['Nazwa'][i] = df['Nazwa'][i].replace(str(df['numerCalostki'][i]), \"\")"
      ],
      "execution_count": null,
      "outputs": []
    },
    {
      "cell_type": "code",
      "metadata": {
        "id": "Xx7d1M2_54Uv",
        "colab_type": "code",
        "colab": {}
      },
      "source": [
        "for i in df.index:\n",
        "  df['Miejsce wydania'][i] = str(df['Miejsce wydania'][i]).replace(str(df['Strony_seria'][i]), \"\")"
      ],
      "execution_count": null,
      "outputs": []
    },
    {
      "cell_type": "code",
      "metadata": {
        "id": "HYHIGWe-AEh3",
        "colab_type": "code",
        "colab": {}
      },
      "source": [
        "for i in df.index:\n",
        "  df['Wydanie'][i] = df['Wydanie'][i].replace(str(df['Miejsce wydania'][i]), \"\")"
      ],
      "execution_count": null,
      "outputs": []
    },
    {
      "cell_type": "code",
      "metadata": {
        "id": "Gpv8Vy74CbjH",
        "colab_type": "code",
        "colab": {}
      },
      "source": [
        "df['Tytuł'] = df['Nazwa'].str.lstrip(\";\")"
      ],
      "execution_count": null,
      "outputs": []
    },
    {
      "cell_type": "code",
      "metadata": {
        "id": "IzSAOUdPCW7W",
        "colab_type": "code",
        "colab": {}
      },
      "source": [
        "df['Tytuł'] = df['Tytuł'].str.strip()"
      ],
      "execution_count": null,
      "outputs": []
    },
    {
      "cell_type": "code",
      "metadata": {
        "id": "2keNIyzaDQLR",
        "colab_type": "code",
        "colab": {}
      },
      "source": [
        "df['Autor1'] = df[\"Tytuł\"].str.extract('([-ZŚŁŻŹĆŃĘÓĄ1ÉŁ]{1}[a-zśłżźćńęóą1éł]+\\s[-ZŚŁŻŹĆŃĘÓĄ1ÉŁ]{1}\\.\\s?)', expand = True)\n"
      ],
      "execution_count": null,
      "outputs": []
    },
    {
      "cell_type": "code",
      "metadata": {
        "id": "Y7PFZQznEBR7",
        "colab_type": "code",
        "colab": {}
      },
      "source": [
        "for i in df.index:\n",
        "  df['Tytuł'][i] = df['Tytuł'][i].replace(str(df['Autor1'][i]), \"\")"
      ],
      "execution_count": null,
      "outputs": []
    },
    {
      "cell_type": "code",
      "metadata": {
        "id": "9EZ-qyIlE6EM",
        "colab_type": "code",
        "colab": {}
      },
      "source": [
        "for i in df.index:\n",
        "  df['Tytuł'][i] = df['Tytuł'][i].replace(str(df['Autor'][i]), \"\")"
      ],
      "execution_count": null,
      "outputs": []
    },
    {
      "cell_type": "code",
      "metadata": {
        "id": "zkjP_p3hS1or",
        "colab_type": "code",
        "colab": {}
      },
      "source": [
        "for i in df.index:\n",
        "  df['Tytuł'][i] = df['Tytuł'][i].replace(str(df['numer'][i]), \"\")"
      ],
      "execution_count": null,
      "outputs": []
    },
    {
      "cell_type": "code",
      "metadata": {
        "id": "pzYqe1Y4EGJR",
        "colab_type": "code",
        "colab": {}
      },
      "source": [
        "for i in df.index:\n",
        "  df['Tytuł'][i] = df['Tytuł'][i].replace(str(df['Miejsce wydania'][i]), \"\")"
      ],
      "execution_count": null,
      "outputs": []
    },
    {
      "cell_type": "code",
      "metadata": {
        "id": "WmNv_udXINji",
        "colab_type": "code",
        "colab": {}
      },
      "source": [
        "for i in df.index:\n",
        "  df['Tytuł'][i] = df['Tytuł'][i].replace(str(df['Strony_seria'][i]), \"\")"
      ],
      "execution_count": null,
      "outputs": []
    },
    {
      "cell_type": "code",
      "metadata": {
        "id": "6yhC84WmIFVZ",
        "colab_type": "code",
        "colab": {}
      },
      "source": [
        "for i in df.index:\n",
        "  df['numer'][i] = str(df['numer'][i]).replace(str(df['adnotacja'][i]), \"\")"
      ],
      "execution_count": null,
      "outputs": []
    },
    {
      "cell_type": "code",
      "metadata": {
        "id": "ifau6NZIJJp9",
        "colab_type": "code",
        "colab": {}
      },
      "source": [
        "df_marc = pd.DataFrame()"
      ],
      "execution_count": null,
      "outputs": []
    },
    {
      "cell_type": "code",
      "metadata": {
        "id": "jynQ9gHAIjzA",
        "colab_type": "code",
        "colab": {}
      },
      "source": [
        "df_marc['600'] = '$a' + df['tworca'].astype(str)"
      ],
      "execution_count": null,
      "outputs": []
    },
    {
      "cell_type": "code",
      "metadata": {
        "id": "cWwMOxIIJNs-",
        "colab_type": "code",
        "colab": {}
      },
      "source": [
        "df_marc.head()"
      ],
      "execution_count": null,
      "outputs": []
    },
    {
      "cell_type": "code",
      "metadata": {
        "id": "9See2kZ_19dP",
        "colab_type": "code",
        "colab": {}
      },
      "source": [
        "df.to_csv(\"df2.csv\")"
      ],
      "execution_count": null,
      "outputs": []
    },
    {
      "cell_type": "code",
      "metadata": {
        "id": "f8de8qbYYZAI",
        "colab_type": "code",
        "colab": {}
      },
      "source": [
        "df.head(25)"
      ],
      "execution_count": null,
      "outputs": []
    },
    {
      "cell_type": "code",
      "metadata": {
        "id": "U0hlbr9YRipi",
        "colab_type": "code",
        "colab": {
          "base_uri": "https://localhost:8080/",
          "height": 34
        },
        "outputId": "55b8585a-377d-4df1-c51f-6e6f9df669a2"
      },
      "source": [
        "pd.isnull(df['adnotacja'].iloc[0])"
      ],
      "execution_count": null,
      "outputs": [
        {
          "output_type": "execute_result",
          "data": {
            "text/plain": [
              "True"
            ]
          },
          "metadata": {
            "tags": []
          },
          "execution_count": 134
        },
        {
          "output_type": "execute_result",
          "data": {
            "text/plain": [
              "True"
            ]
          },
          "metadata": {
            "tags": []
          },
          "execution_count": 134
        }
      ]
    }
  ]
}